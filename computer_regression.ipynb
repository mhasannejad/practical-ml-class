{
 "cells": [
  {
   "cell_type": "code",
   "execution_count": 1,
   "id": "initial_id",
   "metadata": {
    "collapsed": true,
    "ExecuteTime": {
     "end_time": "2024-04-09T16:57:10.478874200Z",
     "start_time": "2024-04-09T16:57:10.473355Z"
    }
   },
   "outputs": [],
   "source": [
    "import pandas as pd"
   ]
  },
  {
   "cell_type": "code",
   "execution_count": 2,
   "outputs": [
    {
     "data": {
      "text/plain": "     MYCT  MMIN   MMAX  CACH  CHMIN\n0     125   256   6000   256     16\n1      29  8000  32000    32      8\n2      29  8000  32000    32      8\n3      29  8000  32000    32      8\n4      29  8000  16000    32      8\n..    ...   ...    ...   ...    ...\n204   124  1000   8000     0      1\n205    98  1000   8000    32      2\n206   125  2000   8000     0      2\n207   480   512   8000    32      0\n208   480  1000   4000     0      0\n\n[209 rows x 5 columns]",
      "text/html": "<div>\n<style scoped>\n    .dataframe tbody tr th:only-of-type {\n        vertical-align: middle;\n    }\n\n    .dataframe tbody tr th {\n        vertical-align: top;\n    }\n\n    .dataframe thead th {\n        text-align: right;\n    }\n</style>\n<table border=\"1\" class=\"dataframe\">\n  <thead>\n    <tr style=\"text-align: right;\">\n      <th></th>\n      <th>MYCT</th>\n      <th>MMIN</th>\n      <th>MMAX</th>\n      <th>CACH</th>\n      <th>CHMIN</th>\n    </tr>\n  </thead>\n  <tbody>\n    <tr>\n      <th>0</th>\n      <td>125</td>\n      <td>256</td>\n      <td>6000</td>\n      <td>256</td>\n      <td>16</td>\n    </tr>\n    <tr>\n      <th>1</th>\n      <td>29</td>\n      <td>8000</td>\n      <td>32000</td>\n      <td>32</td>\n      <td>8</td>\n    </tr>\n    <tr>\n      <th>2</th>\n      <td>29</td>\n      <td>8000</td>\n      <td>32000</td>\n      <td>32</td>\n      <td>8</td>\n    </tr>\n    <tr>\n      <th>3</th>\n      <td>29</td>\n      <td>8000</td>\n      <td>32000</td>\n      <td>32</td>\n      <td>8</td>\n    </tr>\n    <tr>\n      <th>4</th>\n      <td>29</td>\n      <td>8000</td>\n      <td>16000</td>\n      <td>32</td>\n      <td>8</td>\n    </tr>\n    <tr>\n      <th>...</th>\n      <td>...</td>\n      <td>...</td>\n      <td>...</td>\n      <td>...</td>\n      <td>...</td>\n    </tr>\n    <tr>\n      <th>204</th>\n      <td>124</td>\n      <td>1000</td>\n      <td>8000</td>\n      <td>0</td>\n      <td>1</td>\n    </tr>\n    <tr>\n      <th>205</th>\n      <td>98</td>\n      <td>1000</td>\n      <td>8000</td>\n      <td>32</td>\n      <td>2</td>\n    </tr>\n    <tr>\n      <th>206</th>\n      <td>125</td>\n      <td>2000</td>\n      <td>8000</td>\n      <td>0</td>\n      <td>2</td>\n    </tr>\n    <tr>\n      <th>207</th>\n      <td>480</td>\n      <td>512</td>\n      <td>8000</td>\n      <td>32</td>\n      <td>0</td>\n    </tr>\n    <tr>\n      <th>208</th>\n      <td>480</td>\n      <td>1000</td>\n      <td>4000</td>\n      <td>0</td>\n      <td>0</td>\n    </tr>\n  </tbody>\n</table>\n<p>209 rows × 5 columns</p>\n</div>"
     },
     "execution_count": 2,
     "metadata": {},
     "output_type": "execute_result"
    }
   ],
   "source": [
    "machine = pd.read_csv('data/computer/machine.data')\n",
    "machine[['MYCT','MMIN','MMAX','CACH','CHMIN']]"
   ],
   "metadata": {
    "collapsed": false,
    "ExecuteTime": {
     "end_time": "2024-04-09T16:57:16.078508700Z",
     "start_time": "2024-04-09T16:57:16.066175600Z"
    }
   },
   "id": "8e5180ed12082298"
  },
  {
   "cell_type": "code",
   "execution_count": 3,
   "outputs": [],
   "source": [
    "from sklearn.preprocessing import StandardScaler\n",
    "\n",
    "# Assuming 'data' is a DataFrame containing your dataset\n",
    "scaler = StandardScaler()\n",
    "scaled_data = scaler.fit_transform(machine[['MYCT','MMIN','MMAX','CACH','CHMIN']])\n",
    "\n",
    "# Now 'scaled_data' can be used for training your model\n"
   ],
   "metadata": {
    "collapsed": false,
    "ExecuteTime": {
     "end_time": "2024-04-09T16:57:47.622277300Z",
     "start_time": "2024-04-09T16:57:47.558256100Z"
    }
   },
   "id": "3766fb860a391190"
  },
  {
   "cell_type": "code",
   "execution_count": 4,
   "outputs": [
    {
     "data": {
      "text/plain": "array([[-0.30358614, -0.67502598, -0.49546221,  5.69420785,  1.66198873],\n       [-0.67332952,  1.32629082,  1.72704937,  0.16762947,  0.48550899],\n       [-0.67332952,  1.32629082,  1.72704937,  0.16762947,  0.48550899],\n       ...,\n       [-0.30358614, -0.2243162 , -0.32449978, -0.62188173, -0.39685082],\n       [ 1.06369405, -0.60886675, -0.32449978,  0.16762947, -0.69097076],\n       [ 1.06369405, -0.48275071, -0.66642464, -0.62188173, -0.69097076]])"
     },
     "execution_count": 4,
     "metadata": {},
     "output_type": "execute_result"
    }
   ],
   "source": [
    "scaled_data"
   ],
   "metadata": {
    "collapsed": false,
    "ExecuteTime": {
     "end_time": "2024-04-09T16:57:49.755767800Z",
     "start_time": "2024-04-09T16:57:49.749623Z"
    }
   },
   "id": "41f457439edcf9e9"
  },
  {
   "cell_type": "code",
   "execution_count": 5,
   "outputs": [],
   "source": [
    "from sklearn.model_selection import train_test_split\n",
    "\n",
    "X_train, X_test, y_train, y_test = train_test_split(scaled_data, machine['ERP'], test_size=0.2, random_state=0)"
   ],
   "metadata": {
    "collapsed": false,
    "ExecuteTime": {
     "end_time": "2024-04-09T16:58:30.894762200Z",
     "start_time": "2024-04-09T16:58:30.857143500Z"
    }
   },
   "id": "375321c73f3e8b46"
  },
  {
   "cell_type": "code",
   "execution_count": 6,
   "outputs": [
    {
     "name": "stdout",
     "output_type": "stream",
     "text": [
      "Mean error: 9.94 (10.7%)\n",
      "Model determination:  0.9967507783313065\n"
     ]
    }
   ],
   "source": [
    "from sklearn.metrics import mean_squared_error\n",
    "import numpy as np\n",
    "from sklearn.linear_model import LinearRegression\n",
    "from sklearn.preprocessing import PolynomialFeatures\n",
    "from sklearn.pipeline import make_pipeline\n",
    "\n",
    "# setup and train the pipeline\n",
    "pipeline = make_pipeline(PolynomialFeatures(2), LinearRegression())\n",
    "pipeline.fit(X_train,y_train)\n",
    "\n",
    "# predict results for test data\n",
    "pred = pipeline.predict(X_test)\n",
    "\n",
    "# calculate MSE and determination\n",
    "mse = np.sqrt(mean_squared_error(y_test,pred))\n",
    "print(f'Mean error: {mse:3.3} ({mse/np.mean(pred)*100:3.3}%)')\n",
    "\n",
    "score = pipeline.score(X_train,y_train)\n",
    "print('Model determination: ', score)"
   ],
   "metadata": {
    "collapsed": false,
    "ExecuteTime": {
     "end_time": "2024-04-09T16:58:39.060445800Z",
     "start_time": "2024-04-09T16:58:39.017348100Z"
    }
   },
   "id": "64149a6f85674b52"
  },
  {
   "cell_type": "code",
   "execution_count": 10,
   "outputs": [
    {
     "data": {
      "text/plain": "array([ 69.75312458,  25.92723879,  68.28304978, 272.72318764,\n        67.9654996 ,  26.17015852,  70.74353809,  23.41290297,\n       219.49399257, 147.57053193,  36.44173427, 571.77037719,\n        69.97240589, 161.2149392 , 340.47434128,  36.669999  ,\n        48.3071261 ,  33.01561898,  24.73866845,  28.74553361,\n        28.29130922,  55.83099605, 376.5240739 ,  52.267891  ,\n        37.72993452,  70.63834131,  39.08018534,  21.60052919,\n        30.4747021 ,  43.62866109,  42.62033414,  47.65660918,\n        44.98881953,  51.06086854,  95.69185847, 114.89026373,\n        26.25802036,  53.01773488,  26.51433658,  80.91412537,\n       173.63176656,  39.55257419])"
     },
     "execution_count": 10,
     "metadata": {},
     "output_type": "execute_result"
    }
   ],
   "source": [
    "pred"
   ],
   "metadata": {
    "collapsed": false,
    "ExecuteTime": {
     "end_time": "2024-04-09T15:15:59.913948700Z",
     "start_time": "2024-04-09T15:15:59.909082100Z"
    }
   },
   "id": "d264526e89b8125a"
  },
  {
   "cell_type": "code",
   "execution_count": null,
   "outputs": [],
   "source": [],
   "metadata": {
    "collapsed": false
   },
   "id": "4723b530d3d953d"
  }
 ],
 "metadata": {
  "kernelspec": {
   "display_name": "Python 3",
   "language": "python",
   "name": "python3"
  },
  "language_info": {
   "codemirror_mode": {
    "name": "ipython",
    "version": 2
   },
   "file_extension": ".py",
   "mimetype": "text/x-python",
   "name": "python",
   "nbconvert_exporter": "python",
   "pygments_lexer": "ipython2",
   "version": "2.7.6"
  }
 },
 "nbformat": 4,
 "nbformat_minor": 5
}
